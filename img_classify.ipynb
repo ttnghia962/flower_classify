{
 "cells": [
  {
   "cell_type": "code",
   "execution_count": 1,
   "metadata": {},
   "outputs": [],
   "source": [
    "import cv2\n",
    "import os\n",
    "import numpy as np\n",
    "from sklearn.model_selection import train_test_split\n",
    "from sklearn.svm import SVC\n",
    "from sklearn.metrics import accuracy_score, f1_score\n",
    "from sklearn.preprocessing import StandardScaler\n",
    "from sklearn.pipeline import make_pipeline\n",
    "from scipy.io import loadmat\n",
    "from skimage import feature\n"
   ]
  },
  {
   "cell_type": "markdown",
   "metadata": {},
   "source": [
    "# Feature\n"
   ]
  },
  {
   "cell_type": "code",
   "execution_count": 2,
   "metadata": {},
   "outputs": [],
   "source": [
    "def extract_sift_features(image_path):\n",
    "    # Đọc ảnh\n",
    "    image = cv2.imread(image_path, cv2.IMREAD_GRAYSCALE)\n",
    "\n",
    "    # Tạo đối tượng SIFT\n",
    "    sift = cv2.SIFT_create()\n",
    "\n",
    "    # Tìm keypoint và mô tả\n",
    "    keypoints, descriptors = sift.detectAndCompute(image, None)\n",
    "\n",
    "    return keypoints, descriptors\n",
    "\n",
    "def extract_surf_features(image_path):\n",
    "    # Đọc ảnh\n",
    "    image = cv2.imread(image_path, cv2.IMREAD_GRAYSCALE)\n",
    "\n",
    "    # Tạo đối tượng SURF\n",
    "    surf = cv2.xfeatures2d.SURF_create()\n",
    "\n",
    "    # Tìm keypoint và mô tả\n",
    "    keypoints, descriptors = surf.detectAndCompute(image, None)\n",
    "\n",
    "    return keypoints, descriptors\n",
    "\n",
    "def extract_hog_features(image_path):\n",
    "    # Đọc ảnh\n",
    "    image = cv2.imread(image_path, cv2.IMREAD_GRAYSCALE)\n",
    "\n",
    "    # Tính toán HOG features\n",
    "    hog_features = feature.hog(image, orientations=9, pixels_per_cell=(8, 8), cells_per_block=(2, 2), transform_sqrt=True, block_norm=\"L2-Hys\")\n",
    "\n",
    "    return hog_features\n"
   ]
  },
  {
   "cell_type": "code",
   "execution_count": 3,
   "metadata": {},
   "outputs": [
    {
     "ename": "AttributeError",
     "evalue": "module 'cv2' has no attribute 'xfeatures2d'",
     "output_type": "error",
     "traceback": [
      "\u001b[1;31m---------------------------------------------------------------------------\u001b[0m",
      "\u001b[1;31mAttributeError\u001b[0m                            Traceback (most recent call last)",
      "Cell \u001b[1;32mIn[3], line 4\u001b[0m\n\u001b[0;32m      2\u001b[0m image_path \u001b[38;5;241m=\u001b[39m \u001b[38;5;124m\"\u001b[39m\u001b[38;5;124mD:/Tai Lieu FPT/1_DBM301/102flowers/jpg/image_00001.jpg\u001b[39m\u001b[38;5;124m\"\u001b[39m\n\u001b[0;32m      3\u001b[0m sift_keypoints, sift_descriptors \u001b[38;5;241m=\u001b[39m extract_sift_features(image_path)\n\u001b[1;32m----> 4\u001b[0m surf_keypoints, surf_descriptors \u001b[38;5;241m=\u001b[39m \u001b[43mextract_surf_features\u001b[49m\u001b[43m(\u001b[49m\u001b[43mimage_path\u001b[49m\u001b[43m)\u001b[49m\n\u001b[0;32m      5\u001b[0m hog_features \u001b[38;5;241m=\u001b[39m extract_hog_features(image_path)\n\u001b[0;32m      7\u001b[0m \u001b[38;5;66;03m# Print the number of keypoints and descriptors for SIFT and SURF\u001b[39;00m\n",
      "Cell \u001b[1;32mIn[2], line 18\u001b[0m, in \u001b[0;36mextract_surf_features\u001b[1;34m(image_path)\u001b[0m\n\u001b[0;32m     15\u001b[0m image \u001b[38;5;241m=\u001b[39m cv2\u001b[38;5;241m.\u001b[39mimread(image_path, cv2\u001b[38;5;241m.\u001b[39mIMREAD_GRAYSCALE)\n\u001b[0;32m     17\u001b[0m \u001b[38;5;66;03m# Tạo đối tượng SURF\u001b[39;00m\n\u001b[1;32m---> 18\u001b[0m surf \u001b[38;5;241m=\u001b[39m \u001b[43mcv2\u001b[49m\u001b[38;5;241;43m.\u001b[39;49m\u001b[43mxfeatures2d\u001b[49m\u001b[38;5;241m.\u001b[39mSURF_create()\n\u001b[0;32m     20\u001b[0m \u001b[38;5;66;03m# Tìm keypoint và mô tả\u001b[39;00m\n\u001b[0;32m     21\u001b[0m keypoints, descriptors \u001b[38;5;241m=\u001b[39m surf\u001b[38;5;241m.\u001b[39mdetectAndCompute(image, \u001b[38;5;28;01mNone\u001b[39;00m)\n",
      "\u001b[1;31mAttributeError\u001b[0m: module 'cv2' has no attribute 'xfeatures2d'"
     ]
    }
   ],
   "source": [
    "# Example usage\n",
    "image_path = \"D:/Tai Lieu FPT/1_DBM301/102flowers/jpg/image_00001.jpg\"\n",
    "sift_keypoints, sift_descriptors = extract_sift_features(image_path)\n",
    "surf_keypoints, surf_descriptors = extract_surf_features(image_path)\n",
    "hog_features = extract_hog_features(image_path)\n",
    "\n",
    "# Print the number of keypoints and descriptors for SIFT and SURF\n",
    "print(f\"SIFT Keypoints: {len(sift_keypoints)}\")\n",
    "print(f\"SIFT Descriptors Shape: {sift_descriptors.shape}\")\n",
    "\n",
    "print(f\"SURF Keypoints: {len(surf_keypoints)}\")\n",
    "print(f\"SURF Descriptors Shape: {surf_descriptors.shape}\")\n",
    "\n",
    "# Print the number of elements in HOG features\n",
    "print(f\"HOG Features Length: {len(hog_features)}\")"
   ]
  },
  {
   "cell_type": "code",
   "execution_count": null,
   "metadata": {},
   "outputs": [],
   "source": [
    " # Trích xuất đặc trưng từ ảnh (thay thế extract_features bằng phương pháp mong muốn)\n",
    "        features = (image)\n",
    "\n",
    "        images.append(features)\n",
    "        \n",
    "        # Lấy nhãn tương ứng từ mảng labels theo thứ tự\n",
    "        label_index = int(filename.split('_')[-1].split('.')[0])  # Giả sử nhãn là số cuối cùng trong tên file\n",
    "        image_labels.append(labels[label_index])"
   ]
  },
  {
   "cell_type": "markdown",
   "metadata": {},
   "source": [
    "# Preprocessing data"
   ]
  },
  {
   "cell_type": "markdown",
   "metadata": {},
   "source": [
    "### Label "
   ]
  },
  {
   "cell_type": "code",
   "execution_count": 9,
   "metadata": {},
   "outputs": [
    {
     "name": "stdout",
     "output_type": "stream",
     "text": [
      "{'__header__': b'MATLAB 5.0 MAT-file, Platform: GLNX86, Created on: Thu Feb 19 15:43:33 2009', '__version__': '1.0', '__globals__': [], 'labels': array([[77, 77, 77, ..., 62, 62, 62]], dtype=uint8)}\n",
      "(1, 8189)\n",
      "[  1   2   3   4   5   6   7   8   9  10  11  12  13  14  15  16  17  18\n",
      "  19  20  21  22  23  24  25  26  27  28  29  30  31  32  33  34  35  36\n",
      "  37  38  39  40  41  42  43  44  45  46  47  48  49  50  51  52  53  54\n",
      "  55  56  57  58  59  60  61  62  63  64  65  66  67  68  69  70  71  72\n",
      "  73  74  75  76  77  78  79  80  81  82  83  84  85  86  87  88  89  90\n",
      "  91  92  93  94  95  96  97  98  99 100 101 102]\n"
     ]
    }
   ],
   "source": [
    "file_path = 'D:/Tai Lieu FPT/1_DBM301/imagelabels.mat'\n",
    "# Đọc dữ liệu từ tệp mat\n",
    "mat_data = loadmat(file_path)\n",
    "print(mat_data)\n",
    "labels = mat_data['labels']\n",
    "\n",
    "print(labels.shape)\n",
    "labels_1= np.unique(labels)\n",
    "print(labels_1)"
   ]
  },
  {
   "cell_type": "markdown",
   "metadata": {},
   "source": [
    "### Img"
   ]
  },
  {
   "cell_type": "code",
   "execution_count": null,
   "metadata": {},
   "outputs": [],
   "source": [
    "image_folder = 'D:/Tai Lieu FPT/1_DBM301/102flowers/jpg'\n",
    "\n",
    "images = []\n",
    "image_labels = []\n",
    "\n",
    "\n",
    "for filename in os.listdir(image_folder):\n",
    "    if filename.endswith(('.png', '.jpg', '.jpeg')):  # Kiểm tra định dạng ảnh\n",
    "        image_path = os.path.join(image_folder, filename) # Nối chuỗi để connect ảnh lại, ví dụ \"/D:/\" và \"anh.png\" thì ra \"/D:/anh.png\"\n",
    "        image = cv2.imread(image_path)\n",
    "\n",
    "       "
   ]
  },
  {
   "cell_type": "markdown",
   "metadata": {},
   "source": [
    "# Module"
   ]
  },
  {
   "cell_type": "code",
   "execution_count": null,
   "metadata": {},
   "outputs": [],
   "source": [
    "\n",
    "\n",
    "# Chia dữ liệu thành tập huấn luyện và tập kiểm thử\n",
    "X_train, X_test, y_train, y_test = train_test_split(images, labels, test_size=0.2, random_state=42)\n",
    "\n",
    "# Sử dụng bộ phân loại SVM với trích xuất đặc trưng và chuẩn hóa dữ liệu\n",
    "model = make_pipeline(StandardScaler(), SVC(kernel='linear'))\n",
    "\n",
    "# Huấn luyện mô hình\n",
    "model.fit(X_train, y_train)\n",
    "\n",
    "# Dự đoán nhãn cho tập kiểm thử\n",
    "y_pred = model.predict(X_test)\n",
    "\n",
    "# Đánh giá mô hình sử dụng các metric như accuracy, f1-score\n",
    "accuracy = accuracy_score(y_test, y_pred)\n",
    "f1 = f1_score(y_test, y_pred, average='weighted')\n",
    "\n",
    "print(f'Accuracy: {accuracy}')\n",
    "print(f'F1 Score: {f1}')"
   ]
  }
 ],
 "metadata": {
  "kernelspec": {
   "display_name": "myenvs",
   "language": "python",
   "name": "python3"
  },
  "language_info": {
   "codemirror_mode": {
    "name": "ipython",
    "version": 3
   },
   "file_extension": ".py",
   "mimetype": "text/x-python",
   "name": "python",
   "nbconvert_exporter": "python",
   "pygments_lexer": "ipython3",
   "version": "3.9.15"
  }
 },
 "nbformat": 4,
 "nbformat_minor": 2
}
